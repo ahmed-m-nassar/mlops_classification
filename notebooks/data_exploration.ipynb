{
 "cells": [
  {
   "attachments": {},
   "cell_type": "markdown",
   "metadata": {},
   "source": [
    "## Defining important Functions and importing libraries"
   ]
  },
  {
   "cell_type": "code",
   "execution_count": 1,
   "metadata": {},
   "outputs": [],
   "source": [
    "import yaml\n",
    "import pandas as pd\n",
    "import os\n",
    "os.chdir('../')\n",
    "import logging\n",
    "\n",
    "from src.database.manager import DatabaseManager\n",
    "from src.preprocessing.database_preprocessing import DatabasePreprocessor\n",
    "from src.utils.schema_reader import SchemaReader\n",
    "import sys\n",
    "\n",
    "import matplotlib.pyplot as plt\n",
    "import seaborn as sns\n",
    "\n",
    "\n",
    "# Configure logging\n",
    "logging.basicConfig(level=logging.INFO)\n",
    "\n",
    "\n",
    "def read_params_file(file_path):\n",
    "    \"\"\"\n",
    "    Reads a YAML parameters file and returns the content as a dictionary.\n",
    "\n",
    "    Args:\n",
    "        file_path (str): The path to the YAML parameters file.\n",
    "\n",
    "    Returns:\n",
    "        dict: A dictionary containing the parameters read from the file.\n",
    "    \"\"\"\n",
    "    with open(file_path) as yaml_file:\n",
    "        params = yaml.safe_load(yaml_file)\n",
    "    return params\n",
    "\n",
    "\n",
    "def connect_to_database(params):\n",
    "    \"\"\"\n",
    "    Connects to the database using the provided parameters.\n",
    "\n",
    "    Args:\n",
    "        params (dict): Database connection parameters.\n",
    "\n",
    "    Returns:\n",
    "        DatabaseManager: An instance of DatabaseManager representing the database connection.\n",
    "    \"\"\"\n",
    "    db_manager = DatabaseManager(dbname=params['database']['config']['dbname'],\n",
    "                                 host=params['database']['config']['host'],\n",
    "                                 user=params['database']['config']['user'],\n",
    "                                 port=params['database']['config']['port'],\n",
    "                                 password=params['database']['config']['password'])\n",
    "\n",
    "    return db_manager\n",
    "\n"
   ]
  },
  {
   "attachments": {},
   "cell_type": "markdown",
   "metadata": {},
   "source": [
    "## Connecting to the database "
   ]
  },
  {
   "cell_type": "code",
   "execution_count": 2,
   "metadata": {},
   "outputs": [],
   "source": [
    "\n",
    "params = read_params_file(os.path.join('config', 'params.yaml'))\n",
    "\n",
    "# Connect to the database\n",
    "db_manager = connect_to_database(params)\n",
    "\n",
    "# Process training dataset\n",
    "########################################################################\n",
    "train_table_name = params['database']['train_table_name']"
   ]
  },
  {
   "attachments": {},
   "cell_type": "markdown",
   "metadata": {},
   "source": [
    "## Reading the Training table"
   ]
  },
  {
   "cell_type": "code",
   "execution_count": 3,
   "metadata": {},
   "outputs": [],
   "source": [
    "df = db_manager.select_from_table(table_name=train_table_name ,\n",
    "                             schema_file_path=params['schemas']['training_schema_path'])"
   ]
  },
  {
   "cell_type": "code",
   "execution_count": 4,
   "metadata": {},
   "outputs": [
    {
     "data": {
      "text/html": [
       "<div>\n",
       "<style scoped>\n",
       "    .dataframe tbody tr th:only-of-type {\n",
       "        vertical-align: middle;\n",
       "    }\n",
       "\n",
       "    .dataframe tbody tr th {\n",
       "        vertical-align: top;\n",
       "    }\n",
       "\n",
       "    .dataframe thead th {\n",
       "        text-align: right;\n",
       "    }\n",
       "</style>\n",
       "<table border=\"1\" class=\"dataframe\">\n",
       "  <thead>\n",
       "    <tr style=\"text-align: right;\">\n",
       "      <th></th>\n",
       "      <th>\"age\"</th>\n",
       "      <th>\"job\"</th>\n",
       "      <th>\"marital\"</th>\n",
       "      <th>\"education\"</th>\n",
       "      <th>\"default\"</th>\n",
       "      <th>\"housing\"</th>\n",
       "      <th>\"loan\"</th>\n",
       "      <th>\"contact\"</th>\n",
       "      <th>\"month\"</th>\n",
       "      <th>\"day_of_week\"</th>\n",
       "      <th>\"duration\"</th>\n",
       "      <th>\"campaign\"</th>\n",
       "      <th>\"pdays\"</th>\n",
       "      <th>\"previous\"</th>\n",
       "      <th>\"poutcome\"</th>\n",
       "      <th>\"y\"</th>\n",
       "    </tr>\n",
       "  </thead>\n",
       "  <tbody>\n",
       "    <tr>\n",
       "      <th>0</th>\n",
       "      <td>49</td>\n",
       "      <td>blue-collar</td>\n",
       "      <td>married</td>\n",
       "      <td>basic.9y</td>\n",
       "      <td>unknown</td>\n",
       "      <td>no</td>\n",
       "      <td>no</td>\n",
       "      <td>cellular</td>\n",
       "      <td>nov</td>\n",
       "      <td>wed</td>\n",
       "      <td>227</td>\n",
       "      <td>4</td>\n",
       "      <td>999</td>\n",
       "      <td>0</td>\n",
       "      <td>nonexistent</td>\n",
       "      <td>no</td>\n",
       "    </tr>\n",
       "    <tr>\n",
       "      <th>1</th>\n",
       "      <td>37</td>\n",
       "      <td>entrepreneur</td>\n",
       "      <td>married</td>\n",
       "      <td>university.degree</td>\n",
       "      <td>no</td>\n",
       "      <td>no</td>\n",
       "      <td>no</td>\n",
       "      <td>telephone</td>\n",
       "      <td>nov</td>\n",
       "      <td>wed</td>\n",
       "      <td>202</td>\n",
       "      <td>2</td>\n",
       "      <td>999</td>\n",
       "      <td>1</td>\n",
       "      <td>failure</td>\n",
       "      <td>no</td>\n",
       "    </tr>\n",
       "    <tr>\n",
       "      <th>2</th>\n",
       "      <td>78</td>\n",
       "      <td>retired</td>\n",
       "      <td>married</td>\n",
       "      <td>basic.4y</td>\n",
       "      <td>no</td>\n",
       "      <td>no</td>\n",
       "      <td>no</td>\n",
       "      <td>cellular</td>\n",
       "      <td>jul</td>\n",
       "      <td>mon</td>\n",
       "      <td>1148</td>\n",
       "      <td>1</td>\n",
       "      <td>999</td>\n",
       "      <td>0</td>\n",
       "      <td>nonexistent</td>\n",
       "      <td>yes</td>\n",
       "    </tr>\n",
       "    <tr>\n",
       "      <th>3</th>\n",
       "      <td>36</td>\n",
       "      <td>admin.</td>\n",
       "      <td>married</td>\n",
       "      <td>university.degree</td>\n",
       "      <td>no</td>\n",
       "      <td>yes</td>\n",
       "      <td>no</td>\n",
       "      <td>telephone</td>\n",
       "      <td>may</td>\n",
       "      <td>mon</td>\n",
       "      <td>120</td>\n",
       "      <td>2</td>\n",
       "      <td>999</td>\n",
       "      <td>0</td>\n",
       "      <td>nonexistent</td>\n",
       "      <td>no</td>\n",
       "    </tr>\n",
       "    <tr>\n",
       "      <th>4</th>\n",
       "      <td>59</td>\n",
       "      <td>retired</td>\n",
       "      <td>divorced</td>\n",
       "      <td>university.degree</td>\n",
       "      <td>no</td>\n",
       "      <td>no</td>\n",
       "      <td>no</td>\n",
       "      <td>cellular</td>\n",
       "      <td>jun</td>\n",
       "      <td>tue</td>\n",
       "      <td>368</td>\n",
       "      <td>2</td>\n",
       "      <td>999</td>\n",
       "      <td>0</td>\n",
       "      <td>nonexistent</td>\n",
       "      <td>no</td>\n",
       "    </tr>\n",
       "  </tbody>\n",
       "</table>\n",
       "</div>"
      ],
      "text/plain": [
       "   \"age\"         \"job\" \"marital\"        \"education\" \"default\" \"housing\"   \n",
       "0     49   blue-collar   married           basic.9y   unknown        no  \\\n",
       "1     37  entrepreneur   married  university.degree        no        no   \n",
       "2     78       retired   married           basic.4y        no        no   \n",
       "3     36        admin.   married  university.degree        no       yes   \n",
       "4     59       retired  divorced  university.degree        no        no   \n",
       "\n",
       "  \"loan\"  \"contact\" \"month\" \"day_of_week\"  \"duration\"  \"campaign\"  \"pdays\"   \n",
       "0     no   cellular     nov           wed         227           4      999  \\\n",
       "1     no  telephone     nov           wed         202           2      999   \n",
       "2     no   cellular     jul           mon        1148           1      999   \n",
       "3     no  telephone     may           mon         120           2      999   \n",
       "4     no   cellular     jun           tue         368           2      999   \n",
       "\n",
       "   \"previous\"   \"poutcome\"  \"y\"  \n",
       "0           0  nonexistent   no  \n",
       "1           1      failure   no  \n",
       "2           0  nonexistent  yes  \n",
       "3           0  nonexistent   no  \n",
       "4           0  nonexistent   no  "
      ]
     },
     "execution_count": 4,
     "metadata": {},
     "output_type": "execute_result"
    }
   ],
   "source": [
    "df.head()"
   ]
  },
  {
   "attachments": {},
   "cell_type": "markdown",
   "metadata": {},
   "source": [
    "## Checking for nulls and datatypes"
   ]
  },
  {
   "cell_type": "code",
   "execution_count": 5,
   "metadata": {},
   "outputs": [
    {
     "name": "stdout",
     "output_type": "stream",
     "text": [
      "<class 'pandas.core.frame.DataFrame'>\n",
      "RangeIndex: 32950 entries, 0 to 32949\n",
      "Data columns (total 16 columns):\n",
      " #   Column         Non-Null Count  Dtype \n",
      "---  ------         --------------  ----- \n",
      " 0   \"age\"          32950 non-null  int64 \n",
      " 1   \"job\"          32950 non-null  object\n",
      " 2   \"marital\"      32950 non-null  object\n",
      " 3   \"education\"    32950 non-null  object\n",
      " 4   \"default\"      32950 non-null  object\n",
      " 5   \"housing\"      32950 non-null  object\n",
      " 6   \"loan\"         32950 non-null  object\n",
      " 7   \"contact\"      32950 non-null  object\n",
      " 8   \"month\"        32950 non-null  object\n",
      " 9   \"day_of_week\"  32950 non-null  object\n",
      " 10  \"duration\"     32950 non-null  int64 \n",
      " 11  \"campaign\"     32950 non-null  int64 \n",
      " 12  \"pdays\"        32950 non-null  int64 \n",
      " 13  \"previous\"     32950 non-null  int64 \n",
      " 14  \"poutcome\"     32950 non-null  object\n",
      " 15  \"y\"            32950 non-null  object\n",
      "dtypes: int64(5), object(11)\n",
      "memory usage: 4.0+ MB\n"
     ]
    }
   ],
   "source": [
    "df.info()"
   ]
  },
  {
   "attachments": {},
   "cell_type": "markdown",
   "metadata": {},
   "source": [
    "- No nulls in the data\n",
    "- Datatypes seems correct"
   ]
  },
  {
   "attachments": {},
   "cell_type": "markdown",
   "metadata": {},
   "source": [
    "## Checking target variable "
   ]
  },
  {
   "cell_type": "code",
   "execution_count": 6,
   "metadata": {},
   "outputs": [
    {
     "data": {
      "text/plain": [
       "\"y\"\n",
       "no     0.887344\n",
       "yes    0.112656\n",
       "Name: count, dtype: float64"
      ]
     },
     "execution_count": 6,
     "metadata": {},
     "output_type": "execute_result"
    }
   ],
   "source": [
    "df['\"y\"'].value_counts()/len(df)"
   ]
  },
  {
   "attachments": {},
   "cell_type": "markdown",
   "metadata": {},
   "source": [
    "Data is highly imbalanced "
   ]
  },
  {
   "attachments": {},
   "cell_type": "markdown",
   "metadata": {},
   "source": [
    "## Checking Independent variables"
   ]
  },
  {
   "attachments": {},
   "cell_type": "markdown",
   "metadata": {},
   "source": [
    "### Checking bank client data"
   ]
  },
  {
   "attachments": {},
   "cell_type": "markdown",
   "metadata": {},
   "source": [
    "#### \"Age\""
   ]
  },
  {
   "cell_type": "code",
   "execution_count": 7,
   "metadata": {},
   "outputs": [
    {
     "data": {
      "text/plain": [
       "<Axes: >"
      ]
     },
     "execution_count": 7,
     "metadata": {},
     "output_type": "execute_result"
    },
    {
     "data": {
      "image/png": "[encoded data removed]",
      "text/plain": [
       "<Figure size 640x480 with 1 Axes>"
      ]
     },
     "metadata": {},
     "output_type": "display_data"
    }
   ],
   "source": [
    "df['\"age\"'].hist()"
   ]
  },
  {
   "attachments": {},
   "cell_type": "markdown",
   "metadata": {},
   "source": [
    "- Normally distributed and the average nearly 40 \n",
    "- We might use binning here as different age groups might have tendencies to use Term deposits"
   ]
  },
  {
   "attachments": {},
   "cell_type": "markdown",
   "metadata": {},
   "source": [
    "#### \"education\""
   ]
  },
  {
   "cell_type": "code",
   "execution_count": 8,
   "metadata": {},
   "outputs": [
    {
     "data": {
      "text/plain": [
       "array(['basic.9y', 'university.degree', 'basic.4y', 'high.school',\n",
       "       'professional.course', 'unknown', 'basic.6y', 'illiterate'],\n",
       "      dtype=object)"
      ]
     },
     "execution_count": 8,
     "metadata": {},
     "output_type": "execute_result"
    }
   ],
   "source": [
    "df['\"education\"'].unique()"
   ]
  },
  {
   "attachments": {},
   "cell_type": "markdown",
   "metadata": {},
   "source": [
    "- We have the following categories ['basic.9y', 'university.degree', 'basic.4y', 'high.school',\n",
    "       'professional.course', 'unknown', 'basic.6y', 'illiterate']\n",
    "- We might categorize these jobs into highly educated or not as highly educated customers might tend to use Term deposits"
   ]
  },
  {
   "cell_type": "code",
   "execution_count": 9,
   "metadata": {},
   "outputs": [
    {
     "data": {
      "text/plain": [
       "\"marital\"\n",
       "married     19953\n",
       "single       9257\n",
       "divorced     3675\n",
       "unknown        65\n",
       "Name: count, dtype: int64"
      ]
     },
     "execution_count": 9,
     "metadata": {},
     "output_type": "execute_result"
    }
   ],
   "source": [
    "df['\"marital\"'].value_counts()"
   ]
  },
  {
   "attachments": {},
   "cell_type": "markdown",
   "metadata": {},
   "source": [
    "- We have the following categories : ['married', 'divorced', 'single', 'unknown']\n",
    "- This feature might be important as single customers might have enough balance to use in Term deposits"
   ]
  },
  {
   "attachments": {},
   "cell_type": "markdown",
   "metadata": {},
   "source": [
    "#### \"job\""
   ]
  },
  {
   "cell_type": "code",
   "execution_count": 10,
   "metadata": {},
   "outputs": [
    {
     "data": {
      "text/plain": [
       "\"job\"\n",
       "admin.           8314\n",
       "blue-collar      7441\n",
       "technician       5400\n",
       "services         3196\n",
       "management       2345\n",
       "retired          1366\n",
       "entrepreneur     1160\n",
       "self-employed    1099\n",
       "housemaid         855\n",
       "unemployed        798\n",
       "student           711\n",
       "unknown           265\n",
       "Name: count, dtype: int64"
      ]
     },
     "execution_count": 10,
     "metadata": {},
     "output_type": "execute_result"
    }
   ],
   "source": [
    "df['\"job\"'].value_counts()"
   ]
  },
  {
   "attachments": {},
   "cell_type": "markdown",
   "metadata": {},
   "source": [
    "- we have these jobs :  ['blue-collar', 'entrepreneur', 'retired', 'admin.', 'student',\n",
    "            'services', 'technician', 'self-employed', 'management',\n",
    "            'unemployed', 'unknown', 'housemaid'] \n",
    "\n",
    "- We might check if some particular jobs have more tendencies to accept Term deposits "
   ]
  },
  {
   "attachments": {},
   "cell_type": "markdown",
   "metadata": {},
   "source": [
    "#### \"default\""
   ]
  },
  {
   "cell_type": "code",
   "execution_count": 11,
   "metadata": {},
   "outputs": [
    {
     "data": {
      "text/plain": [
       "\"default\"\n",
       "no         26007\n",
       "unknown     6940\n",
       "yes            3\n",
       "Name: count, dtype: int64"
      ]
     },
     "execution_count": 11,
     "metadata": {},
     "output_type": "execute_result"
    }
   ],
   "source": [
    "df['\"default\"'].value_counts()"
   ]
  },
  {
   "attachments": {},
   "cell_type": "markdown",
   "metadata": {},
   "source": [
    "- We have the following categories : ['unknown', 'no', 'yes']\n",
    "- unknown simply means that this will be missing ,\n",
    " so we have 26000 --> no , \n",
    "            3 --> yes, \n",
    "            7000 --> missing , \n",
    "this feature might not be useful , but we will check its relationship with the target variable"
   ]
  },
  {
   "attachments": {},
   "cell_type": "markdown",
   "metadata": {},
   "source": [
    "#### \"housing\" indicates if the customer had a housing loan or not"
   ]
  },
  {
   "cell_type": "code",
   "execution_count": 12,
   "metadata": {},
   "outputs": [
    {
     "data": {
      "text/plain": [
       "\"housing\"\n",
       "yes        17254\n",
       "no         14900\n",
       "unknown      796\n",
       "Name: count, dtype: int64"
      ]
     },
     "execution_count": 12,
     "metadata": {},
     "output_type": "execute_result"
    }
   ],
   "source": [
    "df['\"housing\"'].value_counts()"
   ]
  },
  {
   "attachments": {},
   "cell_type": "markdown",
   "metadata": {},
   "source": [
    "- we have the following categories : ['no', 'yes', 'unknown']\n",
    "- unknown simply means that this will be missing , we will need a way to fill these missing values"
   ]
  },
  {
   "attachments": {},
   "cell_type": "markdown",
   "metadata": {},
   "source": [
    "#### \"loan\" indicates if the customer had a personal loan or not"
   ]
  },
  {
   "cell_type": "code",
   "execution_count": 13,
   "metadata": {},
   "outputs": [
    {
     "data": {
      "text/plain": [
       "\"loan\"\n",
       "no         27131\n",
       "yes         5023\n",
       "unknown      796\n",
       "Name: count, dtype: int64"
      ]
     },
     "execution_count": 13,
     "metadata": {},
     "output_type": "execute_result"
    }
   ],
   "source": [
    "df['\"loan\"'].value_counts()"
   ]
  },
  {
   "attachments": {},
   "cell_type": "markdown",
   "metadata": {},
   "source": [
    "- we have the following categories : ['no', 'yes', 'unknown']\n",
    "- unknown simply means that this will be missing , we will need a way to fill these missing values"
   ]
  },
  {
   "attachments": {},
   "cell_type": "markdown",
   "metadata": {},
   "source": [
    "### Checking Current campaign statistics"
   ]
  },
  {
   "attachments": {},
   "cell_type": "markdown",
   "metadata": {},
   "source": [
    "##### '\"duration\"' represents the last time the customer was campaigned in seconds"
   ]
  },
  {
   "cell_type": "code",
   "execution_count": 14,
   "metadata": {},
   "outputs": [
    {
     "data": {
      "text/plain": [
       "<Axes: >"
      ]
     },
     "execution_count": 14,
     "metadata": {},
     "output_type": "execute_result"
    },
    {
     "data": {
      "image/png": "[encoded data removed]",
      "text/plain": [
       "<Figure size 640x480 with 1 Axes>"
      ]
     },
     "metadata": {},
     "output_type": "display_data"
    }
   ],
   "source": [
    "df['\"duration\"'].loc[df['\"duration\"']  < 1000].hist()"
   ]
  },
  {
   "attachments": {},
   "cell_type": "markdown",
   "metadata": {},
   "source": [
    "Right skewed --> most of of the customers were contacted recently"
   ]
  },
  {
   "attachments": {},
   "cell_type": "markdown",
   "metadata": {},
   "source": [
    "#### '\"day_of_week\"' represents the last contact day of the month"
   ]
  },
  {
   "cell_type": "code",
   "execution_count": 15,
   "metadata": {},
   "outputs": [
    {
     "data": {
      "text/plain": [
       "\"day_of_week\"\n",
       "thu    6857\n",
       "mon    6812\n",
       "wed    6515\n",
       "tue    6444\n",
       "fri    6322\n",
       "Name: count, dtype: int64"
      ]
     },
     "execution_count": 15,
     "metadata": {},
     "output_type": "execute_result"
    }
   ],
   "source": [
    "df['\"day_of_week\"'].value_counts()"
   ]
  },
  {
   "attachments": {},
   "cell_type": "markdown",
   "metadata": {},
   "source": [
    "- We have the following categories : ['wed', 'mon', 'tue', 'fri', 'thu']"
   ]
  },
  {
   "attachments": {},
   "cell_type": "markdown",
   "metadata": {},
   "source": [
    "#### '\"month\"' represents the last contact day of the month"
   ]
  },
  {
   "cell_type": "code",
   "execution_count": 16,
   "metadata": {},
   "outputs": [
    {
     "data": {
      "text/plain": [
       "array(['nov', 'jul', 'may', 'jun', 'aug', 'mar', 'oct', 'apr', 'sep',\n",
       "       'dec'], dtype=object)"
      ]
     },
     "execution_count": 16,
     "metadata": {},
     "output_type": "execute_result"
    }
   ],
   "source": [
    "df['\"month\"'].unique()"
   ]
  },
  {
   "attachments": {},
   "cell_type": "markdown",
   "metadata": {},
   "source": [
    "- We have the following categories : ['nov', 'jul', 'may', 'jun', 'aug', 'mar', 'oct', 'apr', 'sep',\n",
    "       'dec']"
   ]
  },
  {
   "attachments": {},
   "cell_type": "markdown",
   "metadata": {},
   "source": [
    "#### Represents the last contact communication type "
   ]
  },
  {
   "cell_type": "code",
   "execution_count": 17,
   "metadata": {},
   "outputs": [
    {
     "data": {
      "text/plain": [
       "array(['cellular', 'telephone'], dtype=object)"
      ]
     },
     "execution_count": 17,
     "metadata": {},
     "output_type": "execute_result"
    }
   ],
   "source": [
    "df['\"contact\"'].unique()"
   ]
  },
  {
   "attachments": {},
   "cell_type": "markdown",
   "metadata": {},
   "source": [
    "- We have the following categories : ['cellular', 'telephone']"
   ]
  },
  {
   "attachments": {},
   "cell_type": "markdown",
   "metadata": {},
   "source": [
    "#### \"campaign\" represents the number of contacts performed during this campaign"
   ]
  },
  {
   "cell_type": "code",
   "execution_count": 18,
   "metadata": {},
   "outputs": [
    {
     "data": {
      "text/plain": [
       "<Axes: >"
      ]
     },
     "execution_count": 18,
     "metadata": {},
     "output_type": "execute_result"
    },
    {
     "data": {
      "image/png": "[encoded data removed]",
      "text/plain": [
       "<Figure size 640x480 with 1 Axes>"
      ]
     },
     "metadata": {},
     "output_type": "display_data"
    }
   ],
   "source": [
    "df['\"campaign\"'].loc[df['\"campaign\"']  < 20].hist(bins = 20)"
   ]
  },
  {
   "attachments": {},
   "cell_type": "markdown",
   "metadata": {},
   "source": [
    "Right skewed --> Most of the customers were contacted upto 5 times during their last campaign"
   ]
  },
  {
   "attachments": {},
   "cell_type": "markdown",
   "metadata": {},
   "source": [
    "### Other attributes"
   ]
  },
  {
   "attachments": {},
   "cell_type": "markdown",
   "metadata": {},
   "source": [
    "#### \"pdays\" -->  number of days that passed by after the client was last contacted from a previous campaign"
   ]
  },
  {
   "cell_type": "code",
   "execution_count": 19,
   "metadata": {},
   "outputs": [
    {
     "data": {
      "text/plain": [
       "\"pdays\"\n",
       "999    0.962792\n",
       "3      0.010774\n",
       "6      0.010228\n",
       "4      0.002944\n",
       "2      0.001578\n",
       "7      0.001426\n",
       "9      0.001366\n",
       "10     0.001305\n",
       "12     0.001214\n",
       "5      0.001214\n",
       "13     0.000850\n",
       "1      0.000668\n",
       "11     0.000637\n",
       "15     0.000637\n",
       "14     0.000546\n",
       "8      0.000425\n",
       "0      0.000364\n",
       "16     0.000273\n",
       "17     0.000243\n",
       "18     0.000182\n",
       "22     0.000091\n",
       "19     0.000061\n",
       "21     0.000061\n",
       "27     0.000030\n",
       "25     0.000030\n",
       "20     0.000030\n",
       "26     0.000030\n",
       "Name: count, dtype: float64"
      ]
     },
     "execution_count": 19,
     "metadata": {},
     "output_type": "execute_result"
    }
   ],
   "source": [
    "df['\"pdays\"'].value_counts()/len(df)"
   ]
  },
  {
   "attachments": {},
   "cell_type": "markdown",
   "metadata": {},
   "source": [
    "- almost 4 % of the customers that were contacted before this campaign were contacted less than a month ago\n",
    "- almost 10%  of the customers that were contacted before this campaign were contacted more than 999 days\n",
    "- The rest were not contacted"
   ]
  },
  {
   "attachments": {},
   "cell_type": "markdown",
   "metadata": {},
   "source": [
    "#### \"previous\" number of contacts performed before this campaign and for this client"
   ]
  },
  {
   "cell_type": "code",
   "execution_count": 20,
   "metadata": {},
   "outputs": [
    {
     "data": {
      "text/plain": [
       "\"previous\"\n",
       "0    0.862398\n",
       "1    0.111472\n",
       "2    0.018392\n",
       "3    0.005311\n",
       "4    0.001821\n",
       "5    0.000425\n",
       "6    0.000152\n",
       "7    0.000030\n",
       "Name: count, dtype: float64"
      ]
     },
     "execution_count": 20,
     "metadata": {},
     "output_type": "execute_result"
    }
   ],
   "source": [
    "df['\"previous\"'].value_counts()/len(df)"
   ]
  },
  {
   "attachments": {},
   "cell_type": "markdown",
   "metadata": {},
   "source": [
    "- almost 86 % of customers were not contacted before this campaign\n",
    "- almost 11% of the customers were contacted 1 time before this campaign\n",
    "- the last 3% were contacted 2 --> 7 times"
   ]
  },
  {
   "attachments": {},
   "cell_type": "markdown",
   "metadata": {},
   "source": [
    "#### \"poutcome\" --> outcome of the previous marketing campaign"
   ]
  },
  {
   "cell_type": "code",
   "execution_count": 21,
   "metadata": {},
   "outputs": [
    {
     "data": {
      "text/plain": [
       "\"poutcome\"\n",
       "nonexistent    28416\n",
       "failure         3429\n",
       "success         1105\n",
       "Name: count, dtype: int64"
      ]
     },
     "execution_count": 21,
     "metadata": {},
     "output_type": "execute_result"
    }
   ],
   "source": [
    "df['\"poutcome\"'].value_counts()"
   ]
  },
  {
   "attachments": {},
   "cell_type": "markdown",
   "metadata": {},
   "source": [
    "- It has the following categories ['nonexistent', 'failure', 'success']\n",
    "- Clients who had a successful outcome in the previous campaign might be more likely to subscribe to a term deposit in the current campaign compared to those who had a failure or no previous campaign outcome."
   ]
  },
  {
   "attachments": {},
   "cell_type": "markdown",
   "metadata": {},
   "source": [
    "## Summary"
   ]
  },
  {
   "attachments": {},
   "cell_type": "markdown",
   "metadata": {},
   "source": [
    "- \"y\" --> Target variable needs to be converted into boolean\n",
    "- \"y\" --> Target variable is imbalanced , we need to it \n",
    "- Some Categorical Columns have values That indicate that these values are missing ,\n",
    " for example : one of the values of  \"housing\" columns is 'unknown'  , we need to handle these values .\n",
    "- We might use binning in age to categorize it in different age groups\n",
    "- we might use categorization in jobs or education or other categorical features to check of particular groups have a relationship with the target"
   ]
  },
  {
   "attachments": {},
   "cell_type": "markdown",
   "metadata": {},
   "source": []
  },
  {
   "attachments": {},
   "cell_type": "markdown",
   "metadata": {},
   "source": []
  },
  {
   "attachments": {},
   "cell_type": "markdown",
   "metadata": {},
   "source": []
  }
 ],
 "metadata": {
  "kernelspec": {
   "display_name": "mlops_classification",
   "language": "python",
   "name": "python3"
  },
  "language_info": {
   "codemirror_mode": {
    "name": "ipython",
    "version": 3
   },
   "file_extension": ".py",
   "mimetype": "text/x-python",
   "name": "python",
   "nbconvert_exporter": "python",
   "pygments_lexer": "ipython3",
   "version": "3.8.16"
  },
  "orig_nbformat": 4
 },
 "nbformat": 4,
 "nbformat_minor": 2
}
