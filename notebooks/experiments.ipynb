{
 "cells": [
  {
   "cell_type": "code",
   "execution_count": 2,
   "metadata": {},
   "outputs": [],
   "source": [
    "import yaml\n",
    "import pandas as pd\n",
    "import os\n",
    "os.chdir('../')\n",
    "import logging\n",
    "\n",
    "from src.database.manager import DatabaseManager\n",
    "from src.preprocessing.database_preprocessing import DatabasePreprocessor\n",
    "from src.utils.schema_reader import SchemaReader\n",
    "import sys\n",
    "\n",
    "import matplotlib.pyplot as plt\n",
    "import seaborn as sns\n",
    "\n",
    "pd.options.display.float_format = '{:.2f}'.format\n",
    "\n",
    "\n",
    "\n",
    "# Configure logging\n",
    "logging.basicConfig(level=logging.INFO)\n",
    "\n",
    "\n",
    "def read_params_file(file_path):\n",
    "    \"\"\"\n",
    "    Reads a YAML parameters file and returns the content as a dictionary.\n",
    "\n",
    "    Args:\n",
    "        file_path (str): The path to the YAML parameters file.\n",
    "\n",
    "    Returns:\n",
    "        dict: A dictionary containing the parameters read from the file.\n",
    "    \"\"\"\n",
    "    with open(file_path) as yaml_file:\n",
    "        params = yaml.safe_load(yaml_file)\n",
    "    return params\n",
    "\n",
    "\n",
    "def connect_to_database(params):\n",
    "    \"\"\"\n",
    "    Connects to the database using the provided parameters.\n",
    "\n",
    "    Args:\n",
    "        params (dict): Database connection parameters.\n",
    "\n",
    "    Returns:\n",
    "        DatabaseManager: An instance of DatabaseManager representing the database connection.\n",
    "    \"\"\"\n",
    "    db_manager = DatabaseManager(dbname=params['database']['config']['dbname'],\n",
    "                                 host=params['database']['config']['host'],\n",
    "                                 user=params['database']['config']['user'],\n",
    "                                 port=params['database']['config']['port'],\n",
    "                                 password=params['database']['config']['password'])\n",
    "\n",
    "    return db_manager\n",
    "\n"
   ]
  },
  {
   "cell_type": "code",
   "execution_count": 2,
   "metadata": {},
   "outputs": [],
   "source": [
    "\n",
    "params = read_params_file(os.path.join('config', 'params.yaml'))\n",
    "\n",
    "# Connect to the database\n",
    "db_manager = connect_to_database(params)\n",
    "\n",
    "# Process training dataset\n",
    "########################################################################\n",
    "train_table_name = params['database']['train_table_name']"
   ]
  },
  {
   "cell_type": "code",
   "execution_count": 3,
   "metadata": {},
   "outputs": [],
   "source": [
    "df = db_manager.select_from_table(table_name=train_table_name ,\n",
    "                             schema_file_path=params['schemas']['training_schema_path'])"
   ]
  },
  {
   "attachments": {},
   "cell_type": "markdown",
   "metadata": {},
   "source": [
    "#### Converting target to binary"
   ]
  },
  {
   "cell_type": "code",
   "execution_count": 4,
   "metadata": {},
   "outputs": [
    {
     "data": {
      "text/plain": [
       "0         no\n",
       "1         no\n",
       "2        yes\n",
       "3         no\n",
       "4         no\n",
       "        ... \n",
       "32945     no\n",
       "32946     no\n",
       "32947     no\n",
       "32948     no\n",
       "32949     no\n",
       "Name: \"y\", Length: 32950, dtype: object"
      ]
     },
     "execution_count": 4,
     "metadata": {},
     "output_type": "execute_result"
    }
   ],
   "source": [
    "df['\"y\"']"
   ]
  },
  {
   "cell_type": "code",
   "execution_count": 5,
   "metadata": {},
   "outputs": [],
   "source": [
    "df['\"y\"'] = df['\"y\"'].map({'no': 0, 'yes': 1})\n"
   ]
  },
  {
   "cell_type": "code",
   "execution_count": 6,
   "metadata": {},
   "outputs": [
    {
     "data": {
      "text/plain": [
       "0        0\n",
       "1        0\n",
       "2        1\n",
       "3        0\n",
       "4        0\n",
       "        ..\n",
       "32945    0\n",
       "32946    0\n",
       "32947    0\n",
       "32948    0\n",
       "32949    0\n",
       "Name: \"y\", Length: 32950, dtype: int64"
      ]
     },
     "execution_count": 6,
     "metadata": {},
     "output_type": "execute_result"
    }
   ],
   "source": [
    "df['\"y\"']"
   ]
  },
  {
   "cell_type": "code",
   "execution_count": 39,
   "metadata": {},
   "outputs": [
    {
     "data": {
      "text/plain": [
       "count   32950.00\n",
       "mean       40.01\n",
       "std        10.40\n",
       "min        17.00\n",
       "25%        32.00\n",
       "50%        38.00\n",
       "75%        47.00\n",
       "max        98.00\n",
       "Name: \"age\", dtype: float64"
      ]
     },
     "execution_count": 39,
     "metadata": {},
     "output_type": "execute_result"
    }
   ],
   "source": [
    "df['\"age\"'].describe()"
   ]
  },
  {
   "attachments": {},
   "cell_type": "markdown",
   "metadata": {},
   "source": [
    "#### Making age groups "
   ]
  },
  {
   "cell_type": "code",
   "execution_count": 7,
   "metadata": {},
   "outputs": [
    {
     "name": "stdout",
     "output_type": "stream",
     "text": [
      "   \"age\"         \"job\" \"marital\"        \"education\" \"default\" \"housing\"   \n",
      "0     49   blue-collar   married           basic.9y   unknown        no  \\\n",
      "1     37  entrepreneur   married  university.degree        no        no   \n",
      "2     78       retired   married           basic.4y        no        no   \n",
      "3     36        admin.   married  university.degree        no       yes   \n",
      "4     59       retired  divorced  university.degree        no        no   \n",
      "\n",
      "  \"loan\"  \"contact\" \"month\" \"day_of_week\"  \"duration\"  \"campaign\"  \"pdays\"   \n",
      "0     no   cellular     nov           wed         227           4      999  \\\n",
      "1     no  telephone     nov           wed         202           2      999   \n",
      "2     no   cellular     jul           mon        1148           1      999   \n",
      "3     no  telephone     may           mon         120           2      999   \n",
      "4     no   cellular     jun           tue         368           2      999   \n",
      "\n",
      "   \"previous\"   \"poutcome\"  \"y\" \"age_group\"  \n",
      "0           0  nonexistent    0       41-50  \n",
      "1           1      failure    0       31-40  \n",
      "2           0  nonexistent    1         61+  \n",
      "3           0  nonexistent    0       31-40  \n",
      "4           0  nonexistent    0       51-60  \n"
     ]
    }
   ],
   "source": [
    "# Define the bin edges and labels\n",
    "bins = [0, 18, 30, 40, 50, 60, 100]  # Adjust the bin edges according to your requirements\n",
    "labels = ['0-18', '19-30', '31-40', '41-50', '51-60', '61+']  # Adjust the labels according to your preference\n",
    "\n",
    "# Create a new column with the age groups\n",
    "df['\"age_group\"'] = pd.cut(df['\"age\"'], bins=bins, labels=labels, right=False)\n",
    "\n",
    "# Print the updated DataFrame\n",
    "print(df.head())"
   ]
  },
  {
   "cell_type": "code",
   "execution_count": 37,
   "metadata": {},
   "outputs": [
    {
     "name": "stdout",
     "output_type": "stream",
     "text": [
      "Chi-square statistic: 1009.4348065271199\n",
      "P-value: 5.448075627988547e-216\n",
      "Degrees of freedom: 5\n",
      "Expected frequencies: [[2.66203338e+00 3.37966616e-01]\n",
      " [4.05605153e+03 5.14948467e+02]\n",
      " [1.19667274e+04 1.51927259e+03]\n",
      " [7.48031381e+03 9.49686191e+02]\n",
      " [4.89015533e+03 6.20844674e+02]\n",
      " [8.42089894e+02 1.06910106e+02]]\n"
     ]
    }
   ],
   "source": [
    "# Create a contingency table\n",
    "contingency_table = pd.crosstab(df['\"age_group\"'], df['\"y\"'])\n",
    "\n",
    "# Perform the chi-square test\n",
    "chi2, p_val, dof, expected = chi2_contingency(contingency_table)\n",
    "\n",
    "# Interpret the results\n",
    "print(\"Chi-square statistic:\", chi2)\n",
    "print(\"P-value:\", p_val)\n",
    "print(\"Degrees of freedom:\", dof)\n",
    "print(\"Expected frequencies:\", expected)"
   ]
  },
  {
   "cell_type": "code",
   "execution_count": 45,
   "metadata": {},
   "outputs": [
    {
     "data": {
      "text/html": [
       "<div>\n",
       "<style scoped>\n",
       "    .dataframe tbody tr th:only-of-type {\n",
       "        vertical-align: middle;\n",
       "    }\n",
       "\n",
       "    .dataframe tbody tr th {\n",
       "        vertical-align: top;\n",
       "    }\n",
       "\n",
       "    .dataframe thead th {\n",
       "        text-align: right;\n",
       "    }\n",
       "</style>\n",
       "<table border=\"1\" class=\"dataframe\">\n",
       "  <thead>\n",
       "    <tr style=\"text-align: right;\">\n",
       "      <th>\"y\"</th>\n",
       "      <th>0</th>\n",
       "      <th>1</th>\n",
       "    </tr>\n",
       "    <tr>\n",
       "      <th>\"age_group\"</th>\n",
       "      <th></th>\n",
       "      <th></th>\n",
       "    </tr>\n",
       "  </thead>\n",
       "  <tbody>\n",
       "    <tr>\n",
       "      <th>0-18</th>\n",
       "      <td>2</td>\n",
       "      <td>1</td>\n",
       "    </tr>\n",
       "    <tr>\n",
       "      <th>19-30</th>\n",
       "      <td>3817</td>\n",
       "      <td>754</td>\n",
       "    </tr>\n",
       "    <tr>\n",
       "      <th>31-40</th>\n",
       "      <td>12131</td>\n",
       "      <td>1355</td>\n",
       "    </tr>\n",
       "    <tr>\n",
       "      <th>41-50</th>\n",
       "      <td>7758</td>\n",
       "      <td>672</td>\n",
       "    </tr>\n",
       "    <tr>\n",
       "      <th>51-60</th>\n",
       "      <td>4957</td>\n",
       "      <td>554</td>\n",
       "    </tr>\n",
       "    <tr>\n",
       "      <th>61+</th>\n",
       "      <td>573</td>\n",
       "      <td>376</td>\n",
       "    </tr>\n",
       "  </tbody>\n",
       "</table>\n",
       "</div>"
      ],
      "text/plain": [
       "\"y\"              0     1\n",
       "\"age_group\"             \n",
       "0-18             2     1\n",
       "19-30         3817   754\n",
       "31-40        12131  1355\n",
       "41-50         7758   672\n",
       "51-60         4957   554\n",
       "61+            573   376"
      ]
     },
     "execution_count": 45,
     "metadata": {},
     "output_type": "execute_result"
    }
   ],
   "source": [
    "contingency_table"
   ]
  },
  {
   "cell_type": "code",
   "execution_count": 43,
   "metadata": {},
   "outputs": [
    {
     "data": {
      "image/png": "[encoded data removed]",
      "text/plain": [
       "<Figure size 800x600 with 1 Axes>"
      ]
     },
     "metadata": {},
     "output_type": "display_data"
    }
   ],
   "source": [
    "import numpy as np\n",
    "import matplotlib.pyplot as plt\n",
    "\n",
    "# Define the data\n",
    "age_groups = ['0-18', '19-30', '31-40', '41-50', '51-60', '61+']\n",
    "target_0 = [2, 3817, 12131, 7758, 4957, 573]\n",
    "target_1 = [1, 754, 1355, 672, 554, 376]\n",
    "\n",
    "# Set the width of the bars\n",
    "bar_width = 0.35\n",
    "\n",
    "# Set the x-axis positions for the bars\n",
    "index = np.arange(len(age_groups))\n",
    "\n",
    "# Create the bar plot\n",
    "plt.figure(figsize=(8, 6))\n",
    "plt.bar(index, target_0, width=bar_width, label='Target 0')\n",
    "plt.bar(index + bar_width, target_1, width=bar_width, label='Target 1')\n",
    "\n",
    "# Customize the plot\n",
    "plt.xlabel('Age Group')\n",
    "plt.ylabel('Count')\n",
    "plt.title('Distribution of Target Variable Across Age Groups')\n",
    "plt.xticks(index + bar_width / 2, age_groups)\n",
    "plt.legend()\n",
    "\n",
    "# Show the plot\n",
    "plt.show()\n"
   ]
  },
  {
   "cell_type": "code",
   "execution_count": 44,
   "metadata": {},
   "outputs": [
    {
     "name": "stderr",
     "output_type": "stream",
     "text": [
      "C:\\Users\\amnassar\\AppData\\Local\\Temp\\ipykernel_19088\\869807689.py:35: UserWarning: FixedFormatter should only be used together with FixedLocator\n",
      "  plt.gca().set_yticklabels(['{:.1f}%'.format(x) for x in plt.gca().get_yticks()])\n"
     ]
    },
    {
     "data": {
      "image/png": "[encoded data removed]",
      "text/plain": [
       "<Figure size 800x600 with 1 Axes>"
      ]
     },
     "metadata": {},
     "output_type": "display_data"
    }
   ],
   "source": [
    "import numpy as np\n",
    "import matplotlib.pyplot as plt\n",
    "\n",
    "# Define the data\n",
    "age_groups = ['0-18', '19-30', '31-40', '41-50', '51-60', '61+']\n",
    "target_0 = [2, 3817, 12131, 7758, 4957, 573]\n",
    "target_1 = [1, 754, 1355, 672, 554, 376]\n",
    "\n",
    "# Calculate the total count for each age group\n",
    "total_counts = [t0 + t1 for t0, t1 in zip(target_0, target_1)]\n",
    "\n",
    "# Calculate the percentages\n",
    "target_0_percent = [t0 / total * 100 for t0, total in zip(target_0, total_counts)]\n",
    "target_1_percent = [t1 / total * 100 for t1, total in zip(target_1, total_counts)]\n",
    "\n",
    "# Set the width of the bars\n",
    "bar_width = 0.35\n",
    "\n",
    "# Set the x-axis positions for the bars\n",
    "index = np.arange(len(age_groups))\n",
    "\n",
    "# Create the bar plot\n",
    "plt.figure(figsize=(8, 6))\n",
    "plt.bar(index, target_0_percent, width=bar_width, label='Target 0')\n",
    "plt.bar(index + bar_width, target_1_percent, width=bar_width, label='Target 1')\n",
    "\n",
    "# Customize the plot\n",
    "plt.xlabel('Age Group')\n",
    "plt.ylabel('Percentage')\n",
    "plt.title('Distribution of Target Variable Across Age Groups')\n",
    "plt.xticks(index + bar_width / 2, age_groups)\n",
    "plt.legend()\n",
    "\n",
    "# Update y-axis labels as percentages\n",
    "plt.gca().set_yticklabels(['{:.1f}%'.format(x) for x in plt.gca().get_yticks()])\n",
    "\n",
    "# Show the plot\n",
    "plt.show()\n"
   ]
  },
  {
   "attachments": {},
   "cell_type": "markdown",
   "metadata": {},
   "source": [
    "We should create a flag that sees if that age is above 61 or below 18"
   ]
  },
  {
   "cell_type": "code",
   "execution_count": 38,
   "metadata": {},
   "outputs": [
    {
     "data": {
      "text/html": [
       "<div>\n",
       "<style scoped>\n",
       "    .dataframe tbody tr th:only-of-type {\n",
       "        vertical-align: middle;\n",
       "    }\n",
       "\n",
       "    .dataframe tbody tr th {\n",
       "        vertical-align: top;\n",
       "    }\n",
       "\n",
       "    .dataframe thead th {\n",
       "        text-align: right;\n",
       "    }\n",
       "</style>\n",
       "<table border=\"1\" class=\"dataframe\">\n",
       "  <thead>\n",
       "    <tr style=\"text-align: right;\">\n",
       "      <th>\"y\"</th>\n",
       "      <th>0</th>\n",
       "      <th>1</th>\n",
       "    </tr>\n",
       "    <tr>\n",
       "      <th>\"age_group\"</th>\n",
       "      <th></th>\n",
       "      <th></th>\n",
       "    </tr>\n",
       "  </thead>\n",
       "  <tbody>\n",
       "    <tr>\n",
       "      <th>0-18</th>\n",
       "      <td>2</td>\n",
       "      <td>1</td>\n",
       "    </tr>\n",
       "    <tr>\n",
       "      <th>19-30</th>\n",
       "      <td>3817</td>\n",
       "      <td>754</td>\n",
       "    </tr>\n",
       "    <tr>\n",
       "      <th>31-40</th>\n",
       "      <td>12131</td>\n",
       "      <td>1355</td>\n",
       "    </tr>\n",
       "    <tr>\n",
       "      <th>41-50</th>\n",
       "      <td>7758</td>\n",
       "      <td>672</td>\n",
       "    </tr>\n",
       "    <tr>\n",
       "      <th>51-60</th>\n",
       "      <td>4957</td>\n",
       "      <td>554</td>\n",
       "    </tr>\n",
       "    <tr>\n",
       "      <th>61+</th>\n",
       "      <td>573</td>\n",
       "      <td>376</td>\n",
       "    </tr>\n",
       "  </tbody>\n",
       "</table>\n",
       "</div>"
      ],
      "text/plain": [
       "\"y\"              0     1\n",
       "\"age_group\"             \n",
       "0-18             2     1\n",
       "19-30         3817   754\n",
       "31-40        12131  1355\n",
       "41-50         7758   672\n",
       "51-60         4957   554\n",
       "61+            573   376"
      ]
     },
     "execution_count": 38,
     "metadata": {},
     "output_type": "execute_result"
    }
   ],
   "source": [
    "contingency_table"
   ]
  },
  {
   "cell_type": "code",
   "execution_count": 8,
   "metadata": {},
   "outputs": [
    {
     "name": "stdout",
     "output_type": "stream",
     "text": [
      "\"age\"         0.03\n",
      "\"duration\"    0.40\n",
      "\"campaign\"   -0.07\n",
      "\"pdays\"      -0.33\n",
      "\"previous\"    0.23\n",
      "\"y\"           1.00\n",
      "Name: \"y\", dtype: float64\n"
     ]
    }
   ],
   "source": [
    "# Assuming you have a DataFrame called 'df' containing your numerical columns\n",
    "numerical_columns = ['\"age\"',  '\"duration\"', '\"campaign\"', '\"pdays\"', '\"previous\"' , '\"y\"']\n",
    "\n",
    "# Calculate the correlation matrix\n",
    "correlation_matrix = df[numerical_columns].corr()\n",
    "\n",
    "# Print the correlation matrix\n",
    "print(correlation_matrix['\"y\"'])\n"
   ]
  },
  {
   "cell_type": "code",
   "execution_count": 16,
   "metadata": {},
   "outputs": [
    {
     "data": {
      "text/html": [
       "<div>\n",
       "<style scoped>\n",
       "    .dataframe tbody tr th:only-of-type {\n",
       "        vertical-align: middle;\n",
       "    }\n",
       "\n",
       "    .dataframe tbody tr th {\n",
       "        vertical-align: top;\n",
       "    }\n",
       "\n",
       "    .dataframe thead th {\n",
       "        text-align: right;\n",
       "    }\n",
       "</style>\n",
       "<table border=\"1\" class=\"dataframe\">\n",
       "  <thead>\n",
       "    <tr style=\"text-align: right;\">\n",
       "      <th>\"y\"</th>\n",
       "      <th>0</th>\n",
       "      <th>1</th>\n",
       "    </tr>\n",
       "    <tr>\n",
       "      <th>\"poutcome\"</th>\n",
       "      <th></th>\n",
       "      <th></th>\n",
       "    </tr>\n",
       "  </thead>\n",
       "  <tbody>\n",
       "    <tr>\n",
       "      <th>failure</th>\n",
       "      <td>2935</td>\n",
       "      <td>494</td>\n",
       "    </tr>\n",
       "    <tr>\n",
       "      <th>nonexistent</th>\n",
       "      <td>25915</td>\n",
       "      <td>2501</td>\n",
       "    </tr>\n",
       "    <tr>\n",
       "      <th>success</th>\n",
       "      <td>388</td>\n",
       "      <td>717</td>\n",
       "    </tr>\n",
       "  </tbody>\n",
       "</table>\n",
       "</div>"
      ],
      "text/plain": [
       "\"y\"              0     1\n",
       "\"poutcome\"              \n",
       "failure       2935   494\n",
       "nonexistent  25915  2501\n",
       "success        388   717"
      ]
     },
     "execution_count": 16,
     "metadata": {},
     "output_type": "execute_result"
    }
   ],
   "source": [
    "pd.crosstab(df['\"poutcome\"'], df['\"y\"']) "
   ]
  },
  {
   "cell_type": "code",
   "execution_count": 27,
   "metadata": {},
   "outputs": [
    {
     "name": "stdout",
     "output_type": "stream",
     "text": [
      "Chi-square statistic: 3384.73268697194\n",
      "P-value: 0.0\n",
      "Degrees of freedom: 2\n",
      "Expected frequencies: [[ 3042.70415781   386.29584219]\n",
      " [25214.78021244  3201.21978756]\n",
      " [  980.51562974   124.48437026]]\n"
     ]
    }
   ],
   "source": [
    "# Create a contingency table\n",
    "contingency_table = pd.crosstab(df['\"poutcome\"'], df['\"y\"'])\n",
    "\n",
    "# Perform the chi-square test\n",
    "chi2, p_val, dof, expected = chi2_contingency(contingency_table)\n",
    "\n",
    "# Interpret the results\n",
    "print(\"Chi-square statistic:\", chi2)\n",
    "print(\"P-value:\", p_val)\n",
    "print(\"Degrees of freedom:\", dof)\n",
    "print(\"Expected frequencies:\", expected)"
   ]
  },
  {
   "attachments": {},
   "cell_type": "markdown",
   "metadata": {},
   "source": [
    "- Since the expected frequencies differ from the observed frequencies in case of 'success' , we can make a flag if the poutcome is success or not"
   ]
  },
  {
   "cell_type": "code",
   "execution_count": 9,
   "metadata": {},
   "outputs": [
    {
     "data": {
      "text/html": [
       "<div>\n",
       "<style scoped>\n",
       "    .dataframe tbody tr th:only-of-type {\n",
       "        vertical-align: middle;\n",
       "    }\n",
       "\n",
       "    .dataframe tbody tr th {\n",
       "        vertical-align: top;\n",
       "    }\n",
       "\n",
       "    .dataframe thead th {\n",
       "        text-align: right;\n",
       "    }\n",
       "</style>\n",
       "<table border=\"1\" class=\"dataframe\">\n",
       "  <thead>\n",
       "    <tr style=\"text-align: right;\">\n",
       "      <th>\"y\"</th>\n",
       "      <th>0</th>\n",
       "      <th>1</th>\n",
       "    </tr>\n",
       "    <tr>\n",
       "      <th>\"job\"</th>\n",
       "      <th></th>\n",
       "      <th></th>\n",
       "    </tr>\n",
       "  </thead>\n",
       "  <tbody>\n",
       "    <tr>\n",
       "      <th>admin.</th>\n",
       "      <td>7244</td>\n",
       "      <td>1070</td>\n",
       "    </tr>\n",
       "    <tr>\n",
       "      <th>blue-collar</th>\n",
       "      <td>6926</td>\n",
       "      <td>515</td>\n",
       "    </tr>\n",
       "    <tr>\n",
       "      <th>entrepreneur</th>\n",
       "      <td>1060</td>\n",
       "      <td>100</td>\n",
       "    </tr>\n",
       "    <tr>\n",
       "      <th>housemaid</th>\n",
       "      <td>769</td>\n",
       "      <td>86</td>\n",
       "    </tr>\n",
       "    <tr>\n",
       "      <th>management</th>\n",
       "      <td>2076</td>\n",
       "      <td>269</td>\n",
       "    </tr>\n",
       "    <tr>\n",
       "      <th>retired</th>\n",
       "      <td>1018</td>\n",
       "      <td>348</td>\n",
       "    </tr>\n",
       "    <tr>\n",
       "      <th>self-employed</th>\n",
       "      <td>980</td>\n",
       "      <td>119</td>\n",
       "    </tr>\n",
       "    <tr>\n",
       "      <th>services</th>\n",
       "      <td>2942</td>\n",
       "      <td>254</td>\n",
       "    </tr>\n",
       "    <tr>\n",
       "      <th>student</th>\n",
       "      <td>494</td>\n",
       "      <td>217</td>\n",
       "    </tr>\n",
       "    <tr>\n",
       "      <th>technician</th>\n",
       "      <td>4815</td>\n",
       "      <td>585</td>\n",
       "    </tr>\n",
       "    <tr>\n",
       "      <th>unemployed</th>\n",
       "      <td>682</td>\n",
       "      <td>116</td>\n",
       "    </tr>\n",
       "    <tr>\n",
       "      <th>unknown</th>\n",
       "      <td>232</td>\n",
       "      <td>33</td>\n",
       "    </tr>\n",
       "  </tbody>\n",
       "</table>\n",
       "</div>"
      ],
      "text/plain": [
       "\"y\"               0     1\n",
       "\"job\"                    \n",
       "admin.         7244  1070\n",
       "blue-collar    6926   515\n",
       "entrepreneur   1060   100\n",
       "housemaid       769    86\n",
       "management     2076   269\n",
       "retired        1018   348\n",
       "self-employed   980   119\n",
       "services       2942   254\n",
       "student         494   217\n",
       "technician     4815   585\n",
       "unemployed      682   116\n",
       "unknown         232    33"
      ]
     },
     "execution_count": 9,
     "metadata": {},
     "output_type": "execute_result"
    }
   ],
   "source": [
    "pd.crosstab(df['\"job\"'], df['\"y\"']) "
   ]
  },
  {
   "cell_type": "code",
   "execution_count": 28,
   "metadata": {},
   "outputs": [
    {
     "name": "stdout",
     "output_type": "stream",
     "text": [
      "Chi-square statistic: 756.3303578965546\n",
      "P-value: 4.475532048476782e-155\n",
      "Degrees of freedom: 11\n",
      "Expected frequencies: [[7377.38185129  936.61814871]\n",
      " [6602.73013657  838.26986343]\n",
      " [1029.31957511  130.68042489]\n",
      " [ 758.67951442   96.32048558]\n",
      " [2080.82276176  264.17723824]\n",
      " [1212.11253414  153.88746586]\n",
      " [ 975.19156297  123.80843703]\n",
      " [2835.95289833  360.04710167]\n",
      " [ 630.90191199   80.09808801]\n",
      " [4791.66009105  608.33990895]\n",
      " [ 708.10088012   89.89911988]\n",
      " [ 235.14628225   29.85371775]]\n"
     ]
    }
   ],
   "source": [
    "# Create a contingency table\n",
    "contingency_table = pd.crosstab(df['\"job\"'], df['\"y\"'])\n",
    "\n",
    "# Perform the chi-square test\n",
    "chi2, p_val, dof, expected = chi2_contingency(contingency_table)\n",
    "\n",
    "# Interpret the results\n",
    "print(\"Chi-square statistic:\", chi2)\n",
    "print(\"P-value:\", p_val)\n",
    "print(\"Degrees of freedom:\", dof)\n",
    "print(\"Expected frequencies:\", expected)"
   ]
  },
  {
   "cell_type": "code",
   "execution_count": 30,
   "metadata": {},
   "outputs": [
    {
     "data": {
      "text/html": [
       "<div>\n",
       "<style scoped>\n",
       "    .dataframe tbody tr th:only-of-type {\n",
       "        vertical-align: middle;\n",
       "    }\n",
       "\n",
       "    .dataframe tbody tr th {\n",
       "        vertical-align: top;\n",
       "    }\n",
       "\n",
       "    .dataframe thead th {\n",
       "        text-align: right;\n",
       "    }\n",
       "</style>\n",
       "<table border=\"1\" class=\"dataframe\">\n",
       "  <thead>\n",
       "    <tr style=\"text-align: right;\">\n",
       "      <th>\"y\"</th>\n",
       "      <th>0</th>\n",
       "      <th>1</th>\n",
       "    </tr>\n",
       "    <tr>\n",
       "      <th>\"education\"</th>\n",
       "      <th></th>\n",
       "      <th></th>\n",
       "    </tr>\n",
       "  </thead>\n",
       "  <tbody>\n",
       "    <tr>\n",
       "      <th>basic.4y</th>\n",
       "      <td>2978</td>\n",
       "      <td>344</td>\n",
       "    </tr>\n",
       "    <tr>\n",
       "      <th>basic.6y</th>\n",
       "      <td>1709</td>\n",
       "      <td>156</td>\n",
       "    </tr>\n",
       "    <tr>\n",
       "      <th>basic.9y</th>\n",
       "      <td>4457</td>\n",
       "      <td>369</td>\n",
       "    </tr>\n",
       "    <tr>\n",
       "      <th>high.school</th>\n",
       "      <td>6781</td>\n",
       "      <td>815</td>\n",
       "    </tr>\n",
       "    <tr>\n",
       "      <th>illiterate</th>\n",
       "      <td>13</td>\n",
       "      <td>3</td>\n",
       "    </tr>\n",
       "    <tr>\n",
       "      <th>professional.course</th>\n",
       "      <td>3719</td>\n",
       "      <td>473</td>\n",
       "    </tr>\n",
       "    <tr>\n",
       "      <th>university.degree</th>\n",
       "      <td>8391</td>\n",
       "      <td>1345</td>\n",
       "    </tr>\n",
       "    <tr>\n",
       "      <th>unknown</th>\n",
       "      <td>1190</td>\n",
       "      <td>207</td>\n",
       "    </tr>\n",
       "  </tbody>\n",
       "</table>\n",
       "</div>"
      ],
      "text/plain": [
       "\"y\"                     0     1\n",
       "\"education\"                    \n",
       "basic.4y             2978   344\n",
       "basic.6y             1709   156\n",
       "basic.9y             4457   369\n",
       "high.school          6781   815\n",
       "illiterate             13     3\n",
       "professional.course  3719   473\n",
       "university.degree    8391  1345\n",
       "unknown              1190   207"
      ]
     },
     "execution_count": 30,
     "metadata": {},
     "output_type": "execute_result"
    }
   ],
   "source": [
    "pd.crosstab(df['\"education\"'], df['\"y\"']) "
   ]
  },
  {
   "cell_type": "code",
   "execution_count": 29,
   "metadata": {},
   "outputs": [
    {
     "name": "stdout",
     "output_type": "stream",
     "text": [
      "Chi-square statistic: 165.70316494240055\n",
      "P-value: 2.0199151269942383e-32\n",
      "Degrees of freedom: 7\n",
      "Expected frequencies: [[2.94775830e+03 3.74241700e+02]\n",
      " [1.65489742e+03 2.10102580e+02]\n",
      " [4.28232437e+03 5.43675630e+02]\n",
      " [6.74026853e+03 8.55731472e+02]\n",
      " [1.41975114e+01 1.80248862e+00]\n",
      " [3.71974798e+03 4.72252018e+02]\n",
      " [8.63918568e+03 1.09681432e+03]\n",
      " [1.23962021e+03 1.57379788e+02]]\n"
     ]
    }
   ],
   "source": [
    "# Create a contingency table\n",
    "contingency_table = pd.crosstab(df['\"education\"'], df['\"y\"'])\n",
    "\n",
    "# Perform the chi-square test\n",
    "chi2, p_val, dof, expected = chi2_contingency(contingency_table)\n",
    "\n",
    "# Interpret the results\n",
    "print(\"Chi-square statistic:\", chi2)\n",
    "print(\"P-value:\", p_val)\n",
    "print(\"Degrees of freedom:\", dof)\n",
    "print(\"Expected frequencies:\", expected)"
   ]
  },
  {
   "cell_type": "code",
   "execution_count": 31,
   "metadata": {},
   "outputs": [
    {
     "data": {
      "text/html": [
       "<div>\n",
       "<style scoped>\n",
       "    .dataframe tbody tr th:only-of-type {\n",
       "        vertical-align: middle;\n",
       "    }\n",
       "\n",
       "    .dataframe tbody tr th {\n",
       "        vertical-align: top;\n",
       "    }\n",
       "\n",
       "    .dataframe thead th {\n",
       "        text-align: right;\n",
       "    }\n",
       "</style>\n",
       "<table border=\"1\" class=\"dataframe\">\n",
       "  <thead>\n",
       "    <tr style=\"text-align: right;\">\n",
       "      <th>\"y\"</th>\n",
       "      <th>0</th>\n",
       "      <th>1</th>\n",
       "    </tr>\n",
       "    <tr>\n",
       "      <th>\"marital\"</th>\n",
       "      <th></th>\n",
       "      <th></th>\n",
       "    </tr>\n",
       "  </thead>\n",
       "  <tbody>\n",
       "    <tr>\n",
       "      <th>divorced</th>\n",
       "      <td>3304</td>\n",
       "      <td>371</td>\n",
       "    </tr>\n",
       "    <tr>\n",
       "      <th>married</th>\n",
       "      <td>17933</td>\n",
       "      <td>2020</td>\n",
       "    </tr>\n",
       "    <tr>\n",
       "      <th>single</th>\n",
       "      <td>7947</td>\n",
       "      <td>1310</td>\n",
       "    </tr>\n",
       "    <tr>\n",
       "      <th>unknown</th>\n",
       "      <td>54</td>\n",
       "      <td>11</td>\n",
       "    </tr>\n",
       "  </tbody>\n",
       "</table>\n",
       "</div>"
      ],
      "text/plain": [
       "\"y\"            0     1\n",
       "\"marital\"             \n",
       "divorced    3304   371\n",
       "married    17933  2020\n",
       "single      7947  1310\n",
       "unknown       54    11"
      ]
     },
     "execution_count": 31,
     "metadata": {},
     "output_type": "execute_result"
    }
   ],
   "source": [
    "pd.crosstab(df['\"marital\"'], df['\"y\"']) "
   ]
  },
  {
   "cell_type": "code",
   "execution_count": 32,
   "metadata": {},
   "outputs": [
    {
     "name": "stdout",
     "output_type": "stream",
     "text": [
      "Chi-square statistic: 110.26062017522887\n",
      "P-value: 9.643782010240503e-24\n",
      "Degrees of freedom: 3\n",
      "Expected frequencies: [[3.26099090e+03 4.14009105e+02]\n",
      " [1.77051840e+04 2.24781596e+03]\n",
      " [8.21414768e+03 1.04285232e+03]\n",
      " [5.76773900e+01 7.32261002e+00]]\n"
     ]
    }
   ],
   "source": [
    "# Create a contingency table\n",
    "contingency_table = pd.crosstab(df['\"marital\"'], df['\"y\"'])\n",
    "\n",
    "# Perform the chi-square test\n",
    "chi2, p_val, dof, expected = chi2_contingency(contingency_table)\n",
    "\n",
    "# Interpret the results\n",
    "print(\"Chi-square statistic:\", chi2)\n",
    "print(\"P-value:\", p_val)\n",
    "print(\"Degrees of freedom:\", dof)\n",
    "print(\"Expected frequencies:\", expected)"
   ]
  },
  {
   "cell_type": "code",
   "execution_count": 33,
   "metadata": {},
   "outputs": [
    {
     "data": {
      "text/html": [
       "<div>\n",
       "<style scoped>\n",
       "    .dataframe tbody tr th:only-of-type {\n",
       "        vertical-align: middle;\n",
       "    }\n",
       "\n",
       "    .dataframe tbody tr th {\n",
       "        vertical-align: top;\n",
       "    }\n",
       "\n",
       "    .dataframe thead th {\n",
       "        text-align: right;\n",
       "    }\n",
       "</style>\n",
       "<table border=\"1\" class=\"dataframe\">\n",
       "  <thead>\n",
       "    <tr style=\"text-align: right;\">\n",
       "      <th>\"y\"</th>\n",
       "      <th>0</th>\n",
       "      <th>1</th>\n",
       "    </tr>\n",
       "    <tr>\n",
       "      <th>\"default\"</th>\n",
       "      <th></th>\n",
       "      <th></th>\n",
       "    </tr>\n",
       "  </thead>\n",
       "  <tbody>\n",
       "    <tr>\n",
       "      <th>no</th>\n",
       "      <td>22656</td>\n",
       "      <td>3351</td>\n",
       "    </tr>\n",
       "    <tr>\n",
       "      <th>unknown</th>\n",
       "      <td>6579</td>\n",
       "      <td>361</td>\n",
       "    </tr>\n",
       "    <tr>\n",
       "      <th>yes</th>\n",
       "      <td>3</td>\n",
       "      <td>0</td>\n",
       "    </tr>\n",
       "  </tbody>\n",
       "</table>\n",
       "</div>"
      ],
      "text/plain": [
       "\"y\"            0     1\n",
       "\"default\"             \n",
       "no         22656  3351\n",
       "unknown     6579   361\n",
       "yes            3     0"
      ]
     },
     "execution_count": 33,
     "metadata": {},
     "output_type": "execute_result"
    }
   ],
   "source": [
    "pd.crosstab(df['\"default\"'], df['\"y\"']) "
   ]
  },
  {
   "cell_type": "code",
   "execution_count": 34,
   "metadata": {},
   "outputs": [
    {
     "name": "stdout",
     "output_type": "stream",
     "text": [
      "Chi-square statistic: 323.88554163958065\n",
      "P-value: 4.66818704286385e-71\n",
      "Degrees of freedom: 2\n",
      "Expected frequencies: [[2.30771674e+04 2.92983259e+03]\n",
      " [6.15817056e+03 7.81829439e+02]\n",
      " [2.66203338e+00 3.37966616e-01]]\n"
     ]
    }
   ],
   "source": [
    "# Create a contingency table\n",
    "contingency_table = pd.crosstab(df['\"default\"'], df['\"y\"'])\n",
    "\n",
    "# Perform the chi-square test\n",
    "chi2, p_val, dof, expected = chi2_contingency(contingency_table)\n",
    "\n",
    "# Interpret the results\n",
    "print(\"Chi-square statistic:\", chi2)\n",
    "print(\"P-value:\", p_val)\n",
    "print(\"Degrees of freedom:\", dof)\n",
    "print(\"Expected frequencies:\", expected)"
   ]
  },
  {
   "cell_type": "code",
   "execution_count": 23,
   "metadata": {},
   "outputs": [
    {
     "data": {
      "text/html": [
       "<div>\n",
       "<style scoped>\n",
       "    .dataframe tbody tr th:only-of-type {\n",
       "        vertical-align: middle;\n",
       "    }\n",
       "\n",
       "    .dataframe tbody tr th {\n",
       "        vertical-align: top;\n",
       "    }\n",
       "\n",
       "    .dataframe thead th {\n",
       "        text-align: right;\n",
       "    }\n",
       "</style>\n",
       "<table border=\"1\" class=\"dataframe\">\n",
       "  <thead>\n",
       "    <tr style=\"text-align: right;\">\n",
       "      <th>\"y\"</th>\n",
       "      <th>0</th>\n",
       "      <th>1</th>\n",
       "    </tr>\n",
       "    <tr>\n",
       "      <th>\"housing\"</th>\n",
       "      <th></th>\n",
       "      <th></th>\n",
       "    </tr>\n",
       "  </thead>\n",
       "  <tbody>\n",
       "    <tr>\n",
       "      <th>no</th>\n",
       "      <td>13272</td>\n",
       "      <td>1628</td>\n",
       "    </tr>\n",
       "    <tr>\n",
       "      <th>unknown</th>\n",
       "      <td>706</td>\n",
       "      <td>90</td>\n",
       "    </tr>\n",
       "    <tr>\n",
       "      <th>yes</th>\n",
       "      <td>15260</td>\n",
       "      <td>1994</td>\n",
       "    </tr>\n",
       "  </tbody>\n",
       "</table>\n",
       "</div>"
      ],
      "text/plain": [
       "\"y\"            0     1\n",
       "\"housing\"             \n",
       "no         13272  1628\n",
       "unknown      706    90\n",
       "yes        15260  1994"
      ]
     },
     "execution_count": 23,
     "metadata": {},
     "output_type": "execute_result"
    }
   ],
   "source": [
    "pd.crosstab(df['\"housing\"'], df['\"y\"']) "
   ]
  },
  {
   "cell_type": "code",
   "execution_count": 35,
   "metadata": {},
   "outputs": [
    {
     "name": "stdout",
     "output_type": "stream",
     "text": [
      "Chi-square statistic: 3.18159141843302\n",
      "P-value: 0.20376341078642682\n",
      "Degrees of freedom: 2\n",
      "Expected frequencies: [[13221.43247344  1678.56752656]\n",
      " [  706.3261912     89.6738088 ]\n",
      " [15310.24133536  1943.75866464]]\n"
     ]
    }
   ],
   "source": [
    "# Create a contingency table\n",
    "contingency_table = pd.crosstab(df['\"housing\"'], df['\"y\"'])\n",
    "\n",
    "# Perform the chi-square test\n",
    "chi2, p_val, dof, expected = chi2_contingency(contingency_table)\n",
    "\n",
    "# Interpret the results\n",
    "print(\"Chi-square statistic:\", chi2)\n",
    "print(\"P-value:\", p_val)\n",
    "print(\"Degrees of freedom:\", dof)\n",
    "print(\"Expected frequencies:\", expected)"
   ]
  },
  {
   "cell_type": "code",
   "execution_count": 24,
   "metadata": {},
   "outputs": [
    {
     "data": {
      "text/html": [
       "<div>\n",
       "<style scoped>\n",
       "    .dataframe tbody tr th:only-of-type {\n",
       "        vertical-align: middle;\n",
       "    }\n",
       "\n",
       "    .dataframe tbody tr th {\n",
       "        vertical-align: top;\n",
       "    }\n",
       "\n",
       "    .dataframe thead th {\n",
       "        text-align: right;\n",
       "    }\n",
       "</style>\n",
       "<table border=\"1\" class=\"dataframe\">\n",
       "  <thead>\n",
       "    <tr style=\"text-align: right;\">\n",
       "      <th>\"y\"</th>\n",
       "      <th>0</th>\n",
       "      <th>1</th>\n",
       "    </tr>\n",
       "    <tr>\n",
       "      <th>\"loan\"</th>\n",
       "      <th></th>\n",
       "      <th></th>\n",
       "    </tr>\n",
       "  </thead>\n",
       "  <tbody>\n",
       "    <tr>\n",
       "      <th>no</th>\n",
       "      <td>24073</td>\n",
       "      <td>3058</td>\n",
       "    </tr>\n",
       "    <tr>\n",
       "      <th>unknown</th>\n",
       "      <td>706</td>\n",
       "      <td>90</td>\n",
       "    </tr>\n",
       "    <tr>\n",
       "      <th>yes</th>\n",
       "      <td>4459</td>\n",
       "      <td>564</td>\n",
       "    </tr>\n",
       "  </tbody>\n",
       "</table>\n",
       "</div>"
      ],
      "text/plain": [
       "\"y\"          0     1\n",
       "\"loan\"              \n",
       "no       24073  3058\n",
       "unknown    706    90\n",
       "yes       4459   564"
      ]
     },
     "execution_count": 24,
     "metadata": {},
     "output_type": "execute_result"
    }
   ],
   "source": [
    "pd.crosstab(df['\"loan\"'], df['\"y\"']) "
   ]
  },
  {
   "cell_type": "code",
   "execution_count": 36,
   "metadata": {},
   "outputs": [
    {
     "name": "stdout",
     "output_type": "stream",
     "text": [
      "Chi-square statistic: 0.009169655868587832\n",
      "P-value: 0.9954256663450188\n",
      "Degrees of freedom: 2\n",
      "Expected frequencies: [[24074.54257967  3056.45742033]\n",
      " [  706.3261912     89.6738088 ]\n",
      " [ 4457.13122914   565.86877086]]\n"
     ]
    }
   ],
   "source": [
    "# Create a contingency table\n",
    "contingency_table = pd.crosstab(df['\"loan\"'], df['\"y\"'])\n",
    "\n",
    "# Perform the chi-square test\n",
    "chi2, p_val, dof, expected = chi2_contingency(contingency_table)\n",
    "\n",
    "# Interpret the results\n",
    "print(\"Chi-square statistic:\", chi2)\n",
    "print(\"P-value:\", p_val)\n",
    "print(\"Degrees of freedom:\", dof)\n",
    "print(\"Expected frequencies:\", expected)"
   ]
  },
  {
   "cell_type": "code",
   "execution_count": null,
   "metadata": {},
   "outputs": [],
   "source": []
  }
 ],
 "metadata": {
  "kernelspec": {
   "display_name": "mlops_classification",
   "language": "python",
   "name": "python3"
  },
  "language_info": {
   "codemirror_mode": {
    "name": "ipython",
    "version": 3
   },
   "file_extension": ".py",
   "mimetype": "text/x-python",
   "name": "python",
   "nbconvert_exporter": "python",
   "pygments_lexer": "ipython3",
   "version": "3.8.16"
  },
  "orig_nbformat": 4
 },
 "nbformat": 4,
 "nbformat_minor": 2
}
